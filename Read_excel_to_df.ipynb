{
 "cells": [
  {
   "cell_type": "code",
   "execution_count": 1,
   "metadata": {
    "scrolled": true
   },
   "outputs": [],
   "source": [
    "import io\n",
    "import numpy as np\n",
    "import xlrd\n",
    "import os"
   ]
  },
  {
   "cell_type": "code",
   "execution_count": 3,
   "metadata": {},
   "outputs": [
    {
     "name": "stdout",
     "output_type": "stream",
     "text": [
      "ls: cannot access '/home/jovyan/Test_excel_files/': No such file or directory\r\n"
     ]
    }
   ],
   "source": [
    "import pandas as pd\n",
    "pd.options.display.float_format = '{:.2f}'.format\n",
    "#!ls /home/jovyan/Docs/Sample_doc/List_to_test/AGL/\n"
   ]
  },
  {
   "cell_type": "code",
   "execution_count": 4,
   "metadata": {},
   "outputs": [],
   "source": [
    "dir_path='/home/jovyan/Docs/Sample_doc/List_to_test/AGL/'\n",
    "all_files=os.listdir(dir_path)\n",
    "excel_files=[f for f in all_files if f.endswith((\".xlsx\",\".xls\"))] #[-3:] == 'lsx' or 'xls']\n",
    "#excel_files"
   ]
  },
  {
   "cell_type": "code",
   "execution_count": 5,
   "metadata": {},
   "outputs": [
    {
     "name": "stderr",
     "output_type": "stream",
     "text": [
      "/opt/conda/lib/python3.6/site-packages/pandas/io/excel.py:329: FutureWarning: The `sheetname` keyword is deprecated, use `sheet_name` instead\n",
      "  **kwds)\n"
     ]
    }
   ],
   "source": [
    "for a in excel_files: ##iterating through each excel file in the dir\n",
    "    path= dir_path + a ## building the path to read the excel file\n",
    "    #print(path)\n",
    "    xls=pd.ExcelFile(path)\n",
    "    sheet_names=xls.sheet_names\n",
    "    all_sheets = pd.read_excel(xls, sheetname=sheet_names, na_values='NA')\n",
    "    keys=all_sheets.keys()\n",
    "    os.mkdir(dir_path + '/' + (os.path.splitext(os.path.basename(path))[0]).replace(\" \", \"_\")) ## creating a folder in the name of the excel file, replacing the \" \" with \"_\" and removind the file extension\n",
    "    created_path=dir_path + a.rsplit(\".\", 1)[0].replace(\" \",\"_\") + '/'\n",
    "    for i in keys:\n",
    "        file_to_write = created_path + i.replace(\" \",\"_\") + '.txt' ##creating the file path and file name to write.\n",
    "        all_sheets.get(i).to_csv(file_to_write, index=False,sep='\\t', encoding='utf-8',line_terminator='\\n')\n"
   ]
  },
  {
   "cell_type": "code",
   "execution_count": null,
   "metadata": {},
   "outputs": [],
   "source": []
  }
 ],
 "metadata": {
  "kernelspec": {
   "display_name": "Python 3",
   "language": "python",
   "name": "python3"
  },
  "language_info": {
   "codemirror_mode": {
    "name": "ipython",
    "version": 3
   },
   "file_extension": ".py",
   "mimetype": "text/x-python",
   "name": "python",
   "nbconvert_exporter": "python",
   "pygments_lexer": "ipython3",
   "version": "3.6.6"
  }
 },
 "nbformat": 4,
 "nbformat_minor": 2
}
