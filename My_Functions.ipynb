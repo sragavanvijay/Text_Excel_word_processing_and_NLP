{
 "cells": [
  {
   "cell_type": "code",
   "execution_count": 9,
   "metadata": {},
   "outputs": [
    {
     "name": "stdout",
     "output_type": "stream",
     "text": [
      "'CCSL 2017 PY FS.pdf'\r\n",
      "'CCSL 2017 PY FS.txt'\r\n",
      "'CCSL 2018 FS - reviewed.docx'\r\n",
      "'CCSL 2018 TB.xlsx'\r\n",
      " Converted_Text\r\n",
      "'DVSS 2018 TB.xlsx'\r\n",
      "'DVSS Financial Report Jun 2018.docx'\r\n",
      "'DVSS FINANCIALS PY FY17.pdf'\r\n",
      "'DVTL 2018 FS - AC review.docx'\r\n",
      "'DVTL 2018 TB.xlsx'\r\n",
      "'DVTL PY SIgned FS(checked).pdf'\r\n",
      "'Final Signed 2017 Financial Report - Onevue Super Services with audit opinion.pdf'\r\n",
      "'MAP 30 June 2018_Version 1.docx'\r\n",
      " MAPP_201806_WTB_20181011.xlsx\r\n",
      " OSMA_201806_WTB_20181009.xlsx\r\n",
      "'OSMA Financial Report Jun 2018_version 1.docx'\r\n",
      " OVSS_201806_WTB_20181009.xlsx\r\n",
      "'OVSS Financial Statements Jun 18_Version 1.docx'\r\n",
      "'SIGNED MFP Financials 2016 - 2017.pdf'\r\n",
      "'Word Document financial statement FY17_54557064_1(Admin).docx'\r\n"
     ]
    }
   ],
   "source": [
    "import os\n",
    "!ls /home/jovyan/Sample_doc/Collection/\n"
   ]
  },
  {
   "cell_type": "code",
   "execution_count": 16,
   "metadata": {},
   "outputs": [],
   "source": [
    "def find_all_pdf():\n",
    "    files = [f for f in os.listdir('/home/jovyan/Sample_doc/Collection/') if os.path.isfile(f)]\n",
    "    files = filter(lambda f: f.endswith(('.pdf','.PDF')), files)\n",
    "    return files"
   ]
  },
  {
   "cell_type": "code",
   "execution_count": 33,
   "metadata": {},
   "outputs": [
    {
     "data": {
      "text/plain": [
       "['OVSS_201806_WTB_20181009.xlsx',\n",
       " 'SIGNED MFP Financials 2016 - 2017.pdf',\n",
       " '.DS_Store',\n",
       " 'CCSL 2018 FS - reviewed.docx',\n",
       " 'MAPP_201806_WTB_20181011.xlsx',\n",
       " 'CCSL 2018 TB.xlsx',\n",
       " 'OSMA_201806_WTB_20181009.xlsx',\n",
       " 'DVSS Financial Report Jun 2018.docx',\n",
       " 'DVSS 2018 TB.xlsx',\n",
       " 'Final Signed 2017 Financial Report - Onevue Super Services with audit opinion.pdf',\n",
       " 'OSMA Financial Report Jun 2018_version 1.docx',\n",
       " 'CCSL 2017 PY FS.pdf',\n",
       " 'DVTL 2018 FS - AC review.docx',\n",
       " 'OVSS Financial Statements Jun 18_Version 1.docx',\n",
       " 'DVTL 2018 TB.xlsx',\n",
       " 'MAP 30 June 2018_Version 1.docx',\n",
       " 'DVTL PY SIgned FS(checked).pdf',\n",
       " 'Converted_Text',\n",
       " 'CCSL 2017 PY FS.txt',\n",
       " 'Word Document financial statement FY17_54557064_1(Admin).docx',\n",
       " 'DVSS FINANCIALS PY FY17.pdf']"
      ]
     },
     "execution_count": 33,
     "metadata": {},
     "output_type": "execute_result"
    }
   ],
   "source": [
    "a=os.listdir(\"/home/jovyan/Sample_doc/Collection/\")\n",
    "a"
   ]
  },
  {
   "cell_type": "code",
   "execution_count": 44,
   "metadata": {},
   "outputs": [],
   "source": [
    "import glob\n",
    "a=list()\n",
    "a=glob.glob('/home/jovyan/Sample_doc/Collection/*.pdf')\n",
    "\n"
   ]
  },
  {
   "cell_type": "code",
   "execution_count": 46,
   "metadata": {},
   "outputs": [
    {
     "ename": "TypeError",
     "evalue": "'type' object is not iterable",
     "output_type": "error",
     "traceback": [
      "\u001b[0;31m\u001b[0m",
      "\u001b[0;31mTypeError\u001b[0mTraceback (most recent call last)",
      "\u001b[0;32m<ipython-input-46-ebccdcf79e3b>\u001b[0m in \u001b[0;36m<module>\u001b[0;34m\u001b[0m\n\u001b[0;32m----> 1\u001b[0;31m \u001b[0;32mfor\u001b[0m \u001b[0ma\u001b[0m \u001b[0;32min\u001b[0m \u001b[0mrange\u001b[0m\u001b[0;34m:\u001b[0m\u001b[0;34m\u001b[0m\u001b[0m\n\u001b[0m\u001b[1;32m      2\u001b[0m     \u001b[0mprint\u001b[0m\u001b[0;34m(\u001b[0m\u001b[0ma\u001b[0m\u001b[0;34m)\u001b[0m\u001b[0;34m\u001b[0m\u001b[0m\n",
      "\u001b[0;31mTypeError\u001b[0m: 'type' object is not iterable"
     ]
    }
   ],
   "source": [
    "for a in range:\n",
    "    print(a)"
   ]
  },
  {
   "cell_type": "code",
   "execution_count": null,
   "metadata": {},
   "outputs": [],
   "source": []
  }
 ],
 "metadata": {
  "kernelspec": {
   "display_name": "Python 3",
   "language": "python",
   "name": "python3"
  },
  "language_info": {
   "codemirror_mode": {
    "name": "ipython",
    "version": 3
   },
   "file_extension": ".py",
   "mimetype": "text/x-python",
   "name": "python",
   "nbconvert_exporter": "python",
   "pygments_lexer": "ipython3",
   "version": "3.6.6"
  }
 },
 "nbformat": 4,
 "nbformat_minor": 2
}
