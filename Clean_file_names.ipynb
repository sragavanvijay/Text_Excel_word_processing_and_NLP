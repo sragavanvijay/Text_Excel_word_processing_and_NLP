{
 "cells": [
  {
   "cell_type": "code",
   "execution_count": 1,
   "metadata": {},
   "outputs": [],
   "source": [
    "import io\n",
    "#import numpy as np\n",
    "#import xlrd\n",
    "import os"
   ]
  },
  {
   "cell_type": "code",
   "execution_count": 2,
   "metadata": {},
   "outputs": [],
   "source": [
    "dir_path='/home/jovyan/Docs/Sample_doc/List_to_test/IDP/'\n",
    "all_files=os.listdir(dir_path)"
   ]
  },
  {
   "cell_type": "code",
   "execution_count": 3,
   "metadata": {},
   "outputs": [
    {
     "data": {
      "text/plain": [
       "[]"
      ]
     },
     "execution_count": 3,
     "metadata": {},
     "output_type": "execute_result"
    }
   ],
   "source": [
    "excel_files_xlsx=[f for f in all_files if f.endswith(\".xlsx\")] #[-3:] == 'lsx' or 'xls']\n",
    "excel_files_xls=[f for f in all_files if f.endswith(\".xls\")]\n",
    "pdf_files=[f for f in all_files if f.endswith(\".pdf\")] #[-3:] == 'lsx' or 'xls']\n",
    "excel_files_xls"
   ]
  },
  {
   "cell_type": "code",
   "execution_count": 47,
   "metadata": {},
   "outputs": [],
   "source": [
    "##clean file names of .xlsx files\n",
    "for file in excel_files_xlsx:\n",
    "    a=os.path.splitext(os.path.basename(file))[0].replace(\" \", \"_\").replace(\".\", \"_\")\n",
    "    new_file=dir_path+ a+'.xlsx'\n",
    "    old_file=dir_path+ file\n",
    "    os.rename(old_file,new_file)"
   ]
  },
  {
   "cell_type": "code",
   "execution_count": 48,
   "metadata": {},
   "outputs": [],
   "source": [
    "##clean file names of .xls files\n",
    "for file in excel_files_xls:\n",
    "    a=os.path.splitext(os.path.basename(file))[0].replace(\" \", \"_\").replace(\".\", \"_\")\n",
    "    new_file=dir_path+ a+'.xls'\n",
    "    old_file=dir_path+ file\n",
    "    os.rename(old_file,new_file)"
   ]
  },
  {
   "cell_type": "code",
   "execution_count": 49,
   "metadata": {},
   "outputs": [],
   "source": [
    "##clean file names of .pdf files\n",
    "for file in pdf_files:\n",
    "    a=os.path.splitext(os.path.basename(file))[0].replace(\" \", \"_\").replace(\".\", \"_\")\n",
    "    new_file=dir_path+ a+'.pdf'\n",
    "    old_file=dir_path+ file\n",
    "    os.rename(old_file,new_file)"
   ]
  },
  {
   "cell_type": "code",
   "execution_count": 4,
   "metadata": {},
   "outputs": [],
   "source": [
    "def clean_file_names(dir_path):\n",
    "    all_files=os.listdir(dir_path)\n",
    "    \n",
    "    excel_files_xlsx=[f for f in all_files if f.endswith(\".xlsx\")] \n",
    "    excel_files_xls=[f for f in all_files if f.endswith(\".xls\")]\n",
    "    pdf_files=[f for f in all_files if f.endswith(\".pdf\")]\n",
    "    \n",
    "    for file in excel_files_xlsx:\n",
    "        a=os.path.splitext(os.path.basename(file))[0].replace(\" \", \"_\").replace(\".\", \"_\")\n",
    "        new_file=dir_path+ a+'.xlsx'\n",
    "        old_file=dir_path+ file\n",
    "        os.rename(old_file,new_file)\n",
    "        \n",
    "    \n",
    "    for file in excel_files_xls:\n",
    "        a=os.path.splitext(os.path.basename(file))[0].replace(\" \", \"_\").replace(\".\", \"_\")\n",
    "        new_file=dir_path+ a+'.xls'\n",
    "        old_file=dir_path+ file\n",
    "        os.rename(old_file,new_file)\n",
    "    \n",
    "    \n",
    "    for file in pdf_files:\n",
    "        a=os.path.splitext(os.path.basename(file))[0].replace(\" \", \"_\").replace(\".\", \"_\")\n",
    "        new_file=dir_path+ a+'.pdf'\n",
    "        old_file=dir_path+ file\n",
    "        os.rename(old_file,new_file)\n",
    "    \n",
    "    \n",
    "    \n",
    "\n",
    "    \n"
   ]
  },
  {
   "cell_type": "code",
   "execution_count": 5,
   "metadata": {},
   "outputs": [],
   "source": [
    "clean_file_names('/home/jovyan/Docs/Sample_doc/List_to_test/IDP/')"
   ]
  },
  {
   "cell_type": "code",
   "execution_count": null,
   "metadata": {},
   "outputs": [],
   "source": []
  }
 ],
 "metadata": {
  "kernelspec": {
   "display_name": "Python 3",
   "language": "python",
   "name": "python3"
  },
  "language_info": {
   "codemirror_mode": {
    "name": "ipython",
    "version": 3
   },
   "file_extension": ".py",
   "mimetype": "text/x-python",
   "name": "python",
   "nbconvert_exporter": "python",
   "pygments_lexer": "ipython3",
   "version": "3.6.6"
  }
 },
 "nbformat": 4,
 "nbformat_minor": 2
}
