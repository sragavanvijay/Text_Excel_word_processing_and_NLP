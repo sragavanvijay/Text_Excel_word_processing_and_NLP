{
 "cells": [
  {
   "cell_type": "code",
   "execution_count": 3,
   "metadata": {},
   "outputs": [
    {
     "name": "stdout",
     "output_type": "stream",
     "text": [
      "Collecting tabula-py\n",
      "  Using cached https://files.pythonhosted.org/packages/1f/f6/20e43951738260cff0005ea175b83ada43e0a74a12e729d0bcabc03b129a/tabula_py-1.3.1-py2.py3-none-any.whl\n",
      "Requirement already satisfied: numpy in /opt/conda/lib/python3.6/site-packages (from tabula-py) (1.13.3)\n",
      "Collecting distro (from tabula-py)\n",
      "  Using cached https://files.pythonhosted.org/packages/f6/b1/ba5a96bccd3496241d8908164b9502a129156443cdd5acbdbf04a90b7a09/distro-1.3.0-py2.py3-none-any.whl\n",
      "Requirement already satisfied: urllib3 in /opt/conda/lib/python3.6/site-packages (from tabula-py) (1.23)\n",
      "Requirement already satisfied: pandas in /opt/conda/lib/python3.6/site-packages (from tabula-py) (0.23.4)\n",
      "Requirement already satisfied: python-dateutil>=2.5.0 in /opt/conda/lib/python3.6/site-packages (from pandas->tabula-py) (2.7.3)\n",
      "Requirement already satisfied: pytz>=2011k in /opt/conda/lib/python3.6/site-packages (from pandas->tabula-py) (2018.6)\n",
      "Requirement already satisfied: six>=1.5 in /opt/conda/lib/python3.6/site-packages (from python-dateutil>=2.5.0->pandas->tabula-py) (1.11.0)\n",
      "Installing collected packages: distro, tabula-py\n",
      "Successfully installed distro-1.3.0 tabula-py-1.3.1\n"
     ]
    }
   ],
   "source": [
    "#!pip install PyPDF2\n",
    "!pip install tabula-py"
   ]
  },
  {
   "cell_type": "code",
   "execution_count": 16,
   "metadata": {},
   "outputs": [],
   "source": [
    "import pandas as pd\n",
    "import numpy as np\n",
    "import re\n",
    "import os\n",
    "from PyPDF2 import PdfFileReader ##PyPDF2 need to be istalled\n",
    "import tabula ## Tabula-py need to be installed\n",
    "from tabula import read_pdf\n"
   ]
  },
  {
   "cell_type": "code",
   "execution_count": 5,
   "metadata": {},
   "outputs": [
    {
     "name": "stdout",
     "output_type": "stream",
     "text": [
      "'MAI Marsh Advantage Insurance Pty Ltd Annual Report 31Dec2017.pdf'\r\n",
      " MAI_Marsh_Advantage_Insurance_Pty_Ltd_Annual_Report_31Dec2017_tables.txt\r\n",
      "'MAR Marsh Pty Ltd Annual Report 31Dec2017.pdf'\r\n",
      " MAR_Marsh_Pty_Ltd_Annual_Report_31Dec2017_tables.txt\r\n",
      "'MIS Mercury Insurance Services Pty Ltd Annual Report 31 Dec 2017.pdf'\r\n",
      " MIS_Mercury_Insurance_Services_Pty_Ltd_Annual_Report_31_Dec_2017_tables.txt\r\n",
      "'MMA Marsh & McLennan Agency Pty Ltd Annual Report 31Dec2017.pdf'\r\n",
      "'MMA_Marsh_&_McLennan_Agency_Pty_Ltd_Annual_Report_31Dec2017_tables.txt'\r\n",
      "'MMCH MMC Holdings (Australia) Pty Ltd Annual Report 31Dec2017.pdf'\r\n",
      "'MMCH_MMC_Holdings_(Australia)_Pty_Ltd_Annual_Report_31Dec2017_tables.txt'\r\n",
      "'MMHA Marsh Mercer Holdings (Australia) Pty Ltd Annual Report 31Dec2017....pdf'\r\n",
      "'MMHA_Marsh_Mercer_Holdings_(Australia)_Pty_Ltd_Annual_Report_31Dec2017..._tables.txt'\r\n"
     ]
    }
   ],
   "source": [
    "#!pip install pyPDF2\n",
    "#!pip install tabula-py\n",
    "#!sudo apt-get update\n",
    "#!sudo apt-get install -y default-jdk\n",
    "!ls /home/jovyan/Docs/Test_excel_files/HTA/HTA_2017_FS.pdf"
   ]
  },
  {
   "cell_type": "code",
   "execution_count": 24,
   "metadata": {},
   "outputs": [
    {
     "data": {
      "text/plain": [
       "['HTA_2017_FS.pdf']"
      ]
     },
     "execution_count": 24,
     "metadata": {},
     "output_type": "execute_result"
    }
   ],
   "source": [
    "dir_path='/home/jovyan/Docs/Test_excel_files/HTA/'\n",
    "all_files=os.listdir(dir_path)\n",
    "pdf_files=[f for f in all_files if f.endswith(\".pdf\")] #[-3:] == 'lsx' or 'xls']\n",
    "pdf_files"
   ]
  },
  {
   "cell_type": "code",
   "execution_count": 25,
   "metadata": {},
   "outputs": [],
   "source": [
    "for a in pdf_files:\n",
    "    read_path=dir_path + '/' + a\n",
    "    pdf = PdfFileReader(open(read_path,'rb'))\n",
    "    #total_pages=pdf.getNumPages()\n",
    "    create_file_name=os.path.splitext(a)[0].replace(\" \", \"_\") + \"_tables\" + \".txt\"\n",
    "    file=open(dir_path + \"/\" + create_file_name, \"a+\")\n",
    "    for f in range (0, pdf.getNumPages()+1):\n",
    "        extract1=tabula.read_pdf(read_path, pages=f, multiple_tables=True,encoding = 'iso-8859-1')\n",
    "        for i in extract1:\n",
    "                i.to_csv(file, index=False, sep='\\t', encoding='iso-8859-1',line_terminator='\\n', header=False)\n",
    "                file.write('\\n')\n",
    "                file.write('#########################################################################') \n",
    "        file.write('\\n')\n",
    "        f=f+1\n",
    "    #print(extract)\n",
    "    file.close()"
   ]
  },
  {
   "cell_type": "code",
   "execution_count": 32,
   "metadata": {},
   "outputs": [
    {
     "data": {
      "text/plain": [
       "[                                              0          1        2\n",
       " 0                                           NaN       2017     2016\n",
       " 1    Non-cancellable operating lease commitment        NaN      NaN\n",
       " 2                         Not later than 1 year  1,293,430  206,528\n",
       " 3  Later than 1 year and not later than 5 years    927,623  223,739\n",
       " 4                                           NaN  2,221,053  430,267]"
      ]
     },
     "execution_count": 32,
     "metadata": {},
     "output_type": "execute_result"
    }
   ],
   "source": [
    "extract12=tabula.read_pdf(\"/home/jovyan/Docs/Test_excel_files/HTA/HTA_2017_FS.pdf\", pages=26, multiple_tables=True,encoding = 'iso-8859-1')\n",
    "extract12"
   ]
  },
  {
   "cell_type": "code",
   "execution_count": 33,
   "metadata": {},
   "outputs": [
    {
     "data": {
      "text/plain": [
       "[]"
      ]
     },
     "execution_count": 33,
     "metadata": {},
     "output_type": "execute_result"
    }
   ],
   "source": [
    "extract12=tabula.read_pdf(\"/home/jovyan/Docs/Test_excel_files/HTA/HTA_2017_FS.pdf\", pages=26,spreadsheet=True, multiple_tables=True,encoding = 'iso-8859-1')\n",
    "extract12"
   ]
  },
  {
   "cell_type": "code",
   "execution_count": null,
   "metadata": {},
   "outputs": [],
   "source": []
  }
 ],
 "metadata": {
  "kernelspec": {
   "display_name": "Python 3",
   "language": "python",
   "name": "python3"
  },
  "language_info": {
   "codemirror_mode": {
    "name": "ipython",
    "version": 3
   },
   "file_extension": ".py",
   "mimetype": "text/x-python",
   "name": "python",
   "nbconvert_exporter": "python",
   "pygments_lexer": "ipython3",
   "version": "3.6.6"
  }
 },
 "nbformat": 4,
 "nbformat_minor": 2
}
