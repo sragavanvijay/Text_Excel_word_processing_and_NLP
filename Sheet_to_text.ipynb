{
 "cells": [
  {
   "cell_type": "code",
   "execution_count": null,
   "metadata": {},
   "outputs": [],
   "source": [
    "import io\n",
    "import numpy as np\n",
    "import xlrd\n",
    "import os\n",
    "import pandas as pd\n",
    "pd.options.display.float_format = '{:.2f}'.format\n",
    "\n",
    "\n",
    "def extract_text_from_sheet(dir_path):\n",
    "    #dir_path = '/home/jovyan/Test_excel_files/'\n",
    "\n",
    "    all_files=os.listdir(dir_path)\n",
    "    excel_files=[f for f in all_files if f.endswith((\".xlsx\",\".xls\"))]\n",
    "\n",
    "    for a in excel_files:      # ''''##iterating through each excel file in the dir'''\n",
    "        path= str(dir_path) + str(a)     # '''##building the path to read the excel file'''\n",
    "        print(path)\n",
    "        xls=pd.ExcelFile(path)\n",
    "        sheet_names=xls.sheet_names\n",
    "        all_sheets = pd.read_excel(xls, sheetname=sheet_names, na_values='NA')\n",
    "        keys=all_sheets.keys()\n",
    "        os.mkdir(dir_path + '/' + (os.path.splitext(os.path.basename(path))[0]).replace(\" \", \"_\"))  #'''## creating a folder in the name of the excel file, replacing the \" \" with \"_\" and removind the file extension'''\n",
    "        created_path=dir_path + a.rsplit(\".\", 1)[0].replace(\" \",\"_\") + '/'\n",
    "        for i in keys:\n",
    "            file_to_write = created_path + i.replace(\" \",\"_\") + '.txt'         #  '''##creating the file path and file name to write.'''\n",
    "            all_sheets.get(i).to_csv(file_to_write, index=False, sep='\\t', encoding='utf-8',line_terminator='\\n')"
   ]
  },
  {
   "cell_type": "code",
   "execution_count": null,
   "metadata": {},
   "outputs": [],
   "source": [
    "\n"
   ]
  }
 ],
 "metadata": {
  "kernelspec": {
   "display_name": "Python 3",
   "language": "python",
   "name": "python3"
  },
  "language_info": {
   "codemirror_mode": {
    "name": "ipython",
    "version": 3
   },
   "file_extension": ".py",
   "mimetype": "text/x-python",
   "name": "python",
   "nbconvert_exporter": "python",
   "pygments_lexer": "ipython3",
   "version": "3.6.6"
  }
 },
 "nbformat": 4,
 "nbformat_minor": 2
}
