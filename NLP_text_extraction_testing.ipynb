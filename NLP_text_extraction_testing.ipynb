{
 "cells": [
  {
   "cell_type": "code",
   "execution_count": 5,
   "metadata": {},
   "outputs": [],
   "source": [
    "from pdfminer.pdfparser import PDFParser\n",
    "from pdfminer.pdfdocument import PDFDocument\n",
    "from pdfminer.pdfpage import PDFPage\n",
    "from pdfminer.pdfpage import PDFTextExtractionNotAllowed\n",
    "from pdfminer.pdfinterp import PDFResourceManager\n",
    "from pdfminer.pdfinterp import PDFPageInterpreter\n",
    "from pdfminer.pdfdevice import PDFDevice\n",
    "from pdfminer.layout import LAParams\n",
    "from pdfminer.converter import PDFPageAggregator\n",
    "import pdfminer\n",
    "import sys\n",
    "import pandas as pd"
   ]
  },
  {
   "cell_type": "code",
   "execution_count": 6,
   "metadata": {},
   "outputs": [],
   "source": [
    "#!pip install pdfminer.six"
   ]
  },
  {
   "cell_type": "code",
   "execution_count": 9,
   "metadata": {},
   "outputs": [],
   "source": [
    "def flatten(l):\n",
    "    return [item for sublist in l for item in sublist]\n",
    "\n",
    "def parse_obj(lt_objs):\n",
    "    res = []\n",
    "    for obj in lt_objs:\n",
    "        if isinstance(obj, pdfminer.layout.LTTextLine):\n",
    "            text = obj.get_text().strip()\n",
    "            if text != '':\n",
    "                res.append((int(obj.bbox[0]), int(obj.bbox[1]), text))\n",
    "        # if it's a container or textbox, recurse\n",
    "        if isinstance(obj, pdfminer.layout.LTTextBoxHorizontal):\n",
    "            res += (parse_obj(obj._objs))\n",
    "        elif isinstance(obj, pdfminer.layout.LTFigure):\n",
    "            res += (parse_obj(obj._objs))\n",
    "    return res"
   ]
  },
  {
   "cell_type": "code",
   "execution_count": 11,
   "metadata": {},
   "outputs": [],
   "source": [
    "def parsepdf(filename='Data/report3.pdf', startpage=None, endpage=None):\n",
    "    \n",
    "    # parse the pdf into a big list of commands of the form (x coord, y coord, text)\n",
    "    if isinstance(filename, str):\n",
    "        fp = open(filename, 'rb')\n",
    "    else:\n",
    "        fp = filename\n",
    "    \n",
    "    parser = PDFParser(fp)\n",
    "    document = PDFDocument(parser)\n",
    "    rsrcmgr = PDFResourceManager()\n",
    "    laparams = LAParams()\n",
    "    device = PDFPageAggregator(rsrcmgr, laparams=laparams)\n",
    "    interpreter = PDFPageInterpreter(rsrcmgr, device)\n",
    "    \n",
    "    # Check if the document allows text extraction. If not, abort.\n",
    "    if not document.is_extractable: raise PDFTextExtractionNotAllowed\n",
    "    \n",
    "    if startpage is None:\n",
    "        from pdfminer.pdfinterp import resolve1\n",
    "        startpage = 0\n",
    "        endpage = resolve1(document.catalog['Pages'])['Count']\n",
    "        print(\"Number of pages: \", endpage)\n",
    "    \n",
    "    res = []\n",
    "    for i, page in enumerate(PDFPage.create_pages(document)):\n",
    "        if i >= startpage and i <= endpage:\n",
    "            # read the page into a layout object\n",
    "            interpreter.process_page(page)\n",
    "            layout = device.get_result()\n",
    "            # extract text, and sort it from top to bottom, left to right\n",
    "            df = pd.DataFrame(parse_obj(layout._objs), columns=['x','y','text'])\n",
    "            # res.append(df)\n",
    "            res.append(sort_rows(df))\n",
    "    return res"
   ]
  },
  {
   "cell_type": "code",
   "execution_count": 12,
   "metadata": {},
   "outputs": [],
   "source": [
    "def sort_rows(df):\n",
    "    # cluster the y coordinates\n",
    "    from sklearn.cluster import DBSCAN\n",
    "    dbscan = DBSCAN(eps=3, min_samples=2)\n",
    "    dbscan.fit(df['y'].values.reshape(-1,1))\n",
    "    df['cluster'] = dbscan.labels_\n",
    "    \n",
    "    # now sort\n",
    "    cluster_mins = df.groupby(['cluster'])['y'].min().reset_index()\n",
    "    cluster_mins.columns = ['cluster','min_y']\n",
    "    df = df.merge(cluster_mins)\n",
    "    df.loc[df.cluster != -1, 'y'] = df.min_y\n",
    "    df = df.sort_values(['y','x'], ascending=[False,True])\n",
    "    \n",
    "    return df.reset_index()\n"
   ]
  },
  {
   "cell_type": "code",
   "execution_count": 14,
   "metadata": {},
   "outputs": [],
   "source": [
    "def get_text(filename, startpage=None, endpage=None):\n",
    "    # turn the parsed dataframe of coordinates and text into a single string\n",
    "    pages = parsepdf(filename, startpage, endpage)\n",
    "    def get_one_page(df):\n",
    "        return '\\n'.join(df.groupby('y')['text'].agg(lambda x: '||'.join(x))[::-1])\n",
    "    # return L(*pages).fmap(get_one_page).intersperse('\\n\\n\\n')\n",
    "    return '\\n\\n\\n'.join([get_one_page(page) for page in pages])\n"
   ]
  },
  {
   "cell_type": "code",
   "execution_count": 17,
   "metadata": {},
   "outputs": [
    {
     "name": "stdout",
     "output_type": "stream",
     "text": [
      "/home/jovyan/Notebooks\r\n"
     ]
    }
   ],
   "source": [
    "!/home/jovyan/Old_Docs/test1.pdf"
   ]
  },
  {
   "cell_type": "code",
   "execution_count": 18,
   "metadata": {},
   "outputs": [
    {
     "name": "stdout",
     "output_type": "stream",
     "text": [
      "Number of pages:  3\n"
     ]
    },
    {
     "data": {
      "text/plain": [
       "'Headline Verdana Bold\\nAssurance & Advisory\\nUnit Pricing | FS CoE Tie Out process\\nSeptember 2018\\n\\n\\nUnit Pricing for FS tie out only\\nINTERNAL USE ONLY\\nResponsibilities\\nDefinitions\\nFinancial statements (FS) CoE responsibilities:\\nFinancial statements are defined as including:||1. FS Tie Out scope of work includes:\\n•||Statement of Financial Position||1.1 Checking mathematical accuracy, consistency of information\\n•||Statement of Profit and Loss and Other Comprehensive Income||and accuracy of cross referencing.\\n•||Statement of Changes in Equity||1.2 Reconciling the figures disclosed in the FS to\\n•||Statement of Cash Flows||the audited Trial Balance (TB).\\n•||Summary of significant accounting policies and other notes||1.3 Checking the spelling, formatting and grammar checks.\\n•||Pro-forma Directors’ report and Directors’ Declaration||1.4 Agreeing the comparatives to the signed prior year FS.\\n2. FS Tie Out scope of work does not include:\\nPricing||2.1 Any preparation of the FS or notes.\\nPricing detailed below if per set, per entity:||2.2 Corroborating any of the FS information to supporting\\ndocumentation.\\nParent FS only||Consolidated FS||2.3 Completing a disclosure checklist\\nUnit Price (exc. GST)||Unit Price (exc. GST)||3. The unit price includes 2 sets of financial statements / trial balances. For additional\\nBase price for one||Base price for one||$750||sets, additional fees apply, as listed in the pricing table.\\nUp to 40 pages||version||$500||version||4. The FS COE will bill the audit team 100% of unit pricing on issuance of the final FS tied\\nout. Any additional fees related to additional versions requested will be billed on\\nAdditional set tied||Additional set tied\\n$250 per set||$375 per set||completion of the project.\\nout||out\\nAudit team responsibilities:\\n1. Provide the FS CoE with the following information:\\nUnit Price (exc. GST)||Unit Price (exc. GST)\\n1.1 TB\\nBase price for one||Base price for one\\n$1,000||$1,250||1.2 Mapping details of the TB to the FS and supporting schedules for\\n41 to 75 pages||version||version\\ncorresponding notes (e.g. excel tables which support notes such as lease\\nAdditional set tied||Additional set tied\\n$500 per set||$625 per set||commitments, related parties etc.).\\nout||out\\n1.3 The Prior Year (PY) audited FS and current year (CY) FS\\n2. Support the CoE team with client liaison and information required as per agreed\\ndeadlines.\\n3. Set clear expectations with the client regarding the quality of the FS.\\nUnit Price (exc. GST)||Unit Price (exc. GST)\\n4. Agree the audit timeline, including the FS process with the client, including specific\\nBase price for one||Base price for one\\n$1,500||$1,750||dates key information will be received. Use Deloitte Connect to drive accountability\\nOver 75 pages||version||version\\nand transparency, ensuring the CoE has received the required information on time.\\nAdditional set tied||$750 per set||Additional set tied||$875 per set||5. Manage the audit timeline with the client to ensure any slippages are identified early\\nout||out||and are clearly communicated to the CoE. The CoE may not be able to complete the\\nwork on time where deadlines are missed.\\n6. Manage overruns – the FS CoE will charge additional fees for additional runs as per\\nthe table listed at left. It is the audit team’s responsibility to determine what fees will\\nbe passed onto the client.\\n7. Take ownership over the completeness and accuracy over the presentation and\\ndisclosure of the FS and notes and completing a disclosure checklist.\\n\\n\\nThis publication contains general information only, and none of Deloitte Touche Tohmatsu Limited, its member firms, or their related entities (collectively the ‘Deloitte Network’) is, by means of\\nthis publication, rendering professional advice or services.\\nBefore making any decision or taking any action that may affect your finances or your business, you should consult a qualified professional adviser. No entity in the Deloitte Network shall be\\nresponsible for any loss whatsoever sustained by any person who relies on this publication.\\nAbout Deloitte\\nDeloitte refers to one or more of Deloitte Touche Tohmatsu Limited, a UK private company limited by guarantee, and its network of member firms, each of which is a legally separate and\\nindependent entity. Please see www.deloitte.com/au/about for a detailed description of the legal structure of Deloitte Touche Tohmatsu Limited and its member firms.\\nDeloitte provides audit, tax, consulting, and financial advisory services to public and private clients spanning multiple industries. With a globally connected network of member firms in more than\\n150 countries, Deloitte brings world-class capabilities and high-quality service to clients, delivering the insights they need to address their most complex business challenges. Deloitte has in the\\nregion of 200,000 professionals, all committed to becoming the standard of excellence.\\nAbout Deloitte Australia\\nIn Australia, the member firm is the Australian partnership of Deloitte Touche Tohmatsu. As one of Australia’s leading professional services firms, Deloitte Touche Tohmatsu and its affiliates\\nprovide audit, tax, consulting, and financial advisory services through approximately 6,000 people across the country. Focused on the creation of value and growth, and known as an employer of\\nchoice for innovative human resources programs, we are dedicated to helping our clients and our people excel. For more information, please visit Deloitte’s web site at www.deloitte.com.au.\\nLiability limited by a scheme approved under Professional Standards Legislation.\\nMember of Deloitte Touche Tohmatsu Limited\\n© 2018 Deloitte Touche Tohmatsu'"
      ]
     },
     "execution_count": 18,
     "metadata": {},
     "output_type": "execute_result"
    }
   ],
   "source": [
    "get_text('/home/jovyan/Old_Docs/test1.pdf')"
   ]
  },
  {
   "cell_type": "code",
   "execution_count": null,
   "metadata": {},
   "outputs": [],
   "source": []
  }
 ],
 "metadata": {
  "kernelspec": {
   "display_name": "Python 3",
   "language": "python",
   "name": "python3"
  },
  "language_info": {
   "codemirror_mode": {
    "name": "ipython",
    "version": 3
   },
   "file_extension": ".py",
   "mimetype": "text/x-python",
   "name": "python",
   "nbconvert_exporter": "python",
   "pygments_lexer": "ipython3",
   "version": "3.6.6"
  }
 },
 "nbformat": 4,
 "nbformat_minor": 2
}
