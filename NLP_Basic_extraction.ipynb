{
 "cells": [
  {
   "cell_type": "code",
   "execution_count": 5,
   "metadata": {},
   "outputs": [
    {
     "name": "stdout",
     "output_type": "stream",
     "text": [
      "Collecting tabula-py\n",
      "  Using cached https://files.pythonhosted.org/packages/2a/60/15cee99f54273b78ae3c1846c1e85014975dbe503c09484c4e82b273f1b8/tabula_py-1.3.0-py2.py3-none-any.whl\n",
      "Requirement already satisfied: urllib3 in /opt/conda/lib/python3.6/site-packages (from tabula-py) (1.23)\n",
      "Requirement already satisfied: numpy in /opt/conda/lib/python3.6/site-packages (from tabula-py) (1.13.3)\n",
      "Collecting distro (from tabula-py)\n",
      "  Using cached https://files.pythonhosted.org/packages/f6/b1/ba5a96bccd3496241d8908164b9502a129156443cdd5acbdbf04a90b7a09/distro-1.3.0-py2.py3-none-any.whl\n",
      "Requirement already satisfied: pandas in /opt/conda/lib/python3.6/site-packages (from tabula-py) (0.23.4)\n",
      "Requirement already satisfied: python-dateutil>=2.5.0 in /opt/conda/lib/python3.6/site-packages (from pandas->tabula-py) (2.7.3)\n",
      "Requirement already satisfied: pytz>=2011k in /opt/conda/lib/python3.6/site-packages (from pandas->tabula-py) (2018.6)\n",
      "Requirement already satisfied: six>=1.5 in /opt/conda/lib/python3.6/site-packages (from python-dateutil>=2.5.0->pandas->tabula-py) (1.11.0)\n",
      "Installing collected packages: distro, tabula-py\n",
      "Successfully installed distro-1.3.0 tabula-py-1.3.0\n"
     ]
    }
   ],
   "source": [
    "! pip install tabula-py"
   ]
  },
  {
   "cell_type": "code",
   "execution_count": 6,
   "metadata": {},
   "outputs": [],
   "source": [
    "import tabula"
   ]
  },
  {
   "cell_type": "code",
   "execution_count": 9,
   "metadata": {},
   "outputs": [
    {
     "name": "stdout",
     "output_type": "stream",
     "text": [
      "../New_client1/aa.pdf\r\n"
     ]
    }
   ],
   "source": [
    "! ls ../New_client1/Doc1/sample_tables.pdf"
   ]
  },
  {
   "cell_type": "code",
   "execution_count": null,
   "metadata": {},
   "outputs": [],
   "source": [
    "from tabula import read_pdf\n",
    "df = read_pdf(\"../New_client1/Doc1/sample_tables.pdf\", multiple_tables=False)"
   ]
  },
  {
   "cell_type": "code",
   "execution_count": 36,
   "metadata": {},
   "outputs": [
    {
     "data": {
      "text/html": [
       "<div>\n",
       "<style scoped>\n",
       "    .dataframe tbody tr th:only-of-type {\n",
       "        vertical-align: middle;\n",
       "    }\n",
       "\n",
       "    .dataframe tbody tr th {\n",
       "        vertical-align: top;\n",
       "    }\n",
       "\n",
       "    .dataframe thead th {\n",
       "        text-align: right;\n",
       "    }\n",
       "</style>\n",
       "<table border=\"1\" class=\"dataframe\">\n",
       "  <thead>\n",
       "    <tr style=\"text-align: right;\">\n",
       "      <th></th>\n",
       "      <th>Number of Coils</th>\n",
       "      <th>Number of Paperclips</th>\n",
       "    </tr>\n",
       "  </thead>\n",
       "  <tbody>\n",
       "    <tr>\n",
       "      <th>0</th>\n",
       "      <td>5</td>\n",
       "      <td>3, 5, 4</td>\n",
       "    </tr>\n",
       "    <tr>\n",
       "      <th>1</th>\n",
       "      <td>10</td>\n",
       "      <td>7, 8, 6</td>\n",
       "    </tr>\n",
       "    <tr>\n",
       "      <th>2</th>\n",
       "      <td>15</td>\n",
       "      <td>11, 10, 12</td>\n",
       "    </tr>\n",
       "    <tr>\n",
       "      <th>3</th>\n",
       "      <td>20</td>\n",
       "      <td>15, 13, 14</td>\n",
       "    </tr>\n",
       "  </tbody>\n",
       "</table>\n",
       "</div>"
      ],
      "text/plain": [
       "   Number of Coils Number of Paperclips\n",
       "0                5              3, 5, 4\n",
       "1               10              7, 8, 6\n",
       "2               15           11, 10, 12\n",
       "3               20           15, 13, 14"
      ]
     },
     "execution_count": 36,
     "metadata": {},
     "output_type": "execute_result"
    }
   ],
   "source": [
    "df"
   ]
  },
  {
   "cell_type": "code",
   "execution_count": 23,
   "metadata": {},
   "outputs": [],
   "source": [
    "read_pdf?"
   ]
  },
  {
   "cell_type": "code",
   "execution_count": 1,
   "metadata": {},
   "outputs": [],
   "source": [
    "\n",
    "import pandas as pd \n",
    "import re\n",
    "import sys  \n",
    "\n",
    "#reload(sys)  \n",
    "#sys.setdefaultencoding('iso-8859-1')\n",
    "\n"
   ]
  },
  {
   "cell_type": "code",
   "execution_count": 2,
   "metadata": {},
   "outputs": [
    {
     "name": "stdout",
     "output_type": "stream",
     "text": [
      "/home/jovyan/Notebooks\r\n"
     ]
    }
   ],
   "source": [
    "!pwd"
   ]
  },
  {
   "cell_type": "code",
   "execution_count": 75,
   "metadata": {},
   "outputs": [],
   "source": [
    "########################read text file######################## 'Audit/NLP/test.txt', 'r'\n",
    "with open('test.txt', 'r') as myfile:\n",
    "    statement=myfile.readlines()\n",
    "\n",
    "myfile.close()\n",
    "#print(statement)\n",
    "\n",
    "\n",
    "with open('test.txt', 'r') as myfile1:\n",
    "    text=myfile1.read()\n",
    "\n",
    "myfile1.close()\n",
    "#print(text)\n"
   ]
  },
  {
   "cell_type": "code",
   "execution_count": 76,
   "metadata": {},
   "outputs": [
    {
     "name": "stdout",
     "output_type": "stream",
     "text": [
      "['STATEMENT OF PROFIT OR LOSS AND OTHER COMPREHENSIVE INCOME', 'FOR THE YEAR ENDED 30 JUNE 2017', '', '', '', '                                                                                                  FY17             FY16', '                                                                             Note                 $’000            $’000', '', '', 'Interest income                                                                 1                    13                 17', 'Interest expense                                                                2                (1,937)          (4,050)', 'Net interest income                                                                              (1,924)          (4,033)', '', '', 'Other income                                                                    1               21,696           27,721', 'Fee and commission expense                                                      2                (1,148)          (3,045)', 'Other expenses                                                                  2                (5,628)        (11,728)', 'Loan impairment expense                                                         2                (2,346)                 -', 'PROFIT BEFORE TAX                                                                               10,650             8,915', 'Income tax expense                                                              3                (3,195)          (2,683)', 'PROFIT AFTER TAX                                                                                  7,455           6,232', '', '', 'TOTAL COMPREHENSIVE INCOME FOR THE PERIOD                                                         7,455            6,232', '', '', '', '                          Notes to the financial statements are included on pages 9 to 25.', '', '', '', '', '                                                           CLARENCE STREET FUNDING NO.1 PTY LTD FINANCIAL REPORT 2017        5', '\\x0cFINANCIAL STATEMENTS', '', '']\n"
     ]
    }
   ],
   "source": [
    "#########################Read dictionary######################## \n",
    "dic = pd.read_csv('test.csv',encoding='iso-8859-1',header=0)\n",
    "#print(dic)\n",
    "# Seperate text file to get Income Statement Block\n",
    "Match_List  = []\n",
    "for match in re.finditer('STATEMENT.*(\\n|\\r|\\r\\n).*(JUNE|DECEMBER) [0-9]*'.lower(), text.lower()):\n",
    "    Match_List.append(match.span())\n",
    "\n",
    "Income1 = Match_List[0][0]\n",
    "Income2 = Match_List[1][0]\n",
    "\n",
    "Income_statement = text[Income1:Income2]\n",
    "\n",
    "#Income Statement In List Form \n",
    "Income_statement = Income_statement.split('\\n') \n",
    "print(Income_statement)\n"
   ]
  },
  {
   "cell_type": "code",
   "execution_count": 77,
   "metadata": {},
   "outputs": [
    {
     "name": "stdout",
     "output_type": "stream",
     "text": [
      "['Interest income                                                                 1                    13                 17', 'Net interest income                                                                              (1,924)          (4,033)', 'Interest expense                                                                2                (1,937)          (4,050)', 'Net interest income                                                                              (1,924)          (4,033)', 'Other income                                                                    1               21,696           27,721', 'Fee and commission expense                                                      2                (1,148)          (3,045)', 'Other expenses                                                                  2                (5,628)        (11,728)', 'Loan impairment expense                                                         2                (2,346)                 -', 'PROFIT BEFORE TAX                                                                               10,650             8,915', 'Income tax expense                                                              3                (3,195)          (2,683)', 'PROFIT AFTER TAX                                                                                  7,455           6,232', 'TOTAL COMPREHENSIVE INCOME FOR THE PERIOD                                                         7,455            6,232']\n"
     ]
    }
   ],
   "source": [
    "#Above Approach needs function so that the statments can get seperated automatically \n",
    "\n",
    "####################### Dictionary Mapping #######################\n",
    "\n",
    "Income_line_item = []\n",
    "for vocab in dic.Items:\n",
    "    for statement in Income_statement:\n",
    "        if vocab.lower() in statement.lower():\n",
    "            Income_line_item.append(statement)\n",
    "print(Income_line_item)\n",
    "\n",
    "def accounting_number(n):\n",
    "    if \",\" in n:\n",
    "        n=\"\".join(n.split(','))\n",
    "        if n.isnumeric():\n",
    "            n= float(n)\n",
    "        elif n[0] ==\"(\":\n",
    "            n = - float(n[1:-1])\n",
    "        elif \",\" in n:\n",
    "            n=float(\"\".join(n.split(',')))\n",
    "    elif n.isnumeric():\n",
    "        n= float(n)\n",
    "    elif n[0] ==\"(\":\n",
    "        n = - float(n[1:-1])\n",
    "    elif \",\" in n:\n",
    "        n=float(\"\".join(n.split(',')))\n",
    "    elif n =='-':\n",
    "        n= float(0)\n",
    "    else:\n",
    "        n\n",
    "    \n",
    "    return n \n",
    "\n"
   ]
  },
  {
   "cell_type": "code",
   "execution_count": 78,
   "metadata": {},
   "outputs": [],
   "source": [
    "def table_parsing(L):\n",
    "    final_ray = []\n",
    "    for i in L:\n",
    "        number_list = []\n",
    "        item_list =[]\n",
    "        for n in i.split(): \n",
    "            if type(accounting_number(n)) == float:\n",
    "                number_list.append(accounting_number(n))\n",
    "            else:\n",
    "                item_list.append(accounting_number(n))\n",
    "        final_item =\" \".join(item_list)\n",
    "        if len(number_list)==3:\n",
    "            number_list.insert(0, final_item)\n",
    "            final_ray.append(number_list)\n",
    "    \n",
    "        elif len(number_list)==2:\n",
    "            number_list.insert(0, 0)\n",
    "            number_list.insert(0, final_item)\n",
    "            final_ray.append(number_list)\n",
    "    return final_ray\n",
    "\n"
   ]
  },
  {
   "cell_type": "code",
   "execution_count": 79,
   "metadata": {},
   "outputs": [
    {
     "name": "stdout",
     "output_type": "stream",
     "text": [
      "                                        Items  Note     FY17     FY16\n",
      "0                             Interest income   1.0     13.0     17.0\n",
      "1                         Net interest income   0.0  -1924.0  -4033.0\n",
      "2                            Interest expense   2.0  -1937.0  -4050.0\n",
      "3                         Net interest income   0.0  -1924.0  -4033.0\n",
      "4                                Other income   1.0  21696.0  27721.0\n",
      "5                  Fee and commission expense   2.0  -1148.0  -3045.0\n",
      "6                              Other expenses   2.0  -5628.0 -11728.0\n",
      "7                     Loan impairment expense   2.0  -2346.0      0.0\n",
      "8                           PROFIT BEFORE TAX   0.0  10650.0   8915.0\n",
      "9                          Income tax expense   3.0  -3195.0  -2683.0\n",
      "10                           PROFIT AFTER TAX   0.0   7455.0   6232.0\n",
      "11  TOTAL COMPREHENSIVE INCOME FOR THE PERIOD   0.0   7455.0   6232.0\n"
     ]
    }
   ],
   "source": [
    "\n",
    "table_parsing(Income_line_item)\n",
    "\n",
    "df = pd.DataFrame(table_parsing(Income_line_item), columns=['Items','Note','FY17','FY16'])\n",
    "print(df)\n",
    "\n"
   ]
  },
  {
   "cell_type": "code",
   "execution_count": null,
   "metadata": {},
   "outputs": [],
   "source": [
    "\n"
   ]
  },
  {
   "cell_type": "code",
   "execution_count": null,
   "metadata": {},
   "outputs": [],
   "source": []
  },
  {
   "cell_type": "code",
   "execution_count": null,
   "metadata": {},
   "outputs": [],
   "source": []
  }
 ],
 "metadata": {
  "kernelspec": {
   "display_name": "Python 3",
   "language": "python",
   "name": "python3"
  },
  "language_info": {
   "codemirror_mode": {
    "name": "ipython",
    "version": 3
   },
   "file_extension": ".py",
   "mimetype": "text/x-python",
   "name": "python",
   "nbconvert_exporter": "python",
   "pygments_lexer": "ipython3",
   "version": "3.6.6"
  }
 },
 "nbformat": 4,
 "nbformat_minor": 2
}
