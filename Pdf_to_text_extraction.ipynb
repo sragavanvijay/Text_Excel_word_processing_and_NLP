{
 "cells": [
  {
   "cell_type": "code",
   "execution_count": 8,
   "metadata": {},
   "outputs": [
    {
     "name": "stdout",
     "output_type": "stream",
     "text": [
      "Reading package lists... Done\n",
      "E: Could not open lock file /var/lib/apt/lists/lock - open (13: Permission denied)\n",
      "E: Unable to lock directory /var/lib/apt/lists/\n",
      "E: Could not open lock file /var/lib/dpkg/lock - open (13: Permission denied)\n",
      "E: Unable to lock the administration directory (/var/lib/dpkg/), are you root?\n",
      "Collecting pdftotext\n",
      "Installing collected packages: pdftotext\n",
      "Successfully installed pdftotext-2.1.1\n"
     ]
    }
   ],
   "source": [
    "#need to install the following\n",
    "#!apt-get update\n",
    "#!apt-get install build-essential libpoppler-cpp-dev pkg-config python-dev\n",
    "#!pip install pdftotext"
   ]
  },
  {
   "cell_type": "code",
   "execution_count": 13,
   "metadata": {},
   "outputs": [],
   "source": [
    "import pdftotext\n",
    "import os"
   ]
  },
  {
   "cell_type": "code",
   "execution_count": 14,
   "metadata": {},
   "outputs": [],
   "source": [
    "def extract_pdf_text(dir_path):\n",
    "    all_files = os.listdir(dir_path)\n",
    "    pdf_files = [f for f in all_files if f.endswith(\".pdf\")]\n",
    "    for file in pdf_files:\n",
    "        file_name=os.path.splitext(file)[0].replace(\" \", \"_\") + '_txt_extract' + \".txt\"\n",
    "        file_and_path_to_write=str(dir_path) + '/' + file_name\n",
    "        #print(file_and_path_to_write)\n",
    "        read_path=str(dir_path) + '/' + file\n",
    "        #print(read_path)\n",
    "        #print(file_name_to_write)\n",
    "        #a=1\n",
    "        with open(read_path, \"rb\") as f:\n",
    "            pdf = pdftotext.PDF(f) ## read the source PDF file\n",
    "            txt_file = open(file_and_path_to_write, \"w\") ## open a txt file to write the contents of PDF file.\n",
    "            for page in pdf:\n",
    "                txt_file.write(page)\n",
    "            txt_file.close()\n",
    "        abs_txt_file_path=file_and_path_to_write\n",
    "        return abs_txt_file_path    \n",
    "            \n",
    "            \n",
    "            \n",
    "            "
   ]
  },
  {
   "cell_type": "code",
   "execution_count": 20,
   "metadata": {},
   "outputs": [
    {
     "name": "stdout",
     "output_type": "stream",
     "text": [
      "/home/jovyan/Docs/Sample_doc/List_to_test/AGL//AGL_Energy_Annual_Report_2018_txt_extract.txt\n"
     ]
    }
   ],
   "source": [
    "extract_pdf_text('/home/jovyan/Docs/Sample_doc/List_to_test/AGL/')"
   ]
  },
  {
   "cell_type": "code",
   "execution_count": 15,
   "metadata": {},
   "outputs": [
    {
     "name": "stdout",
     "output_type": "stream",
     "text": [
      "'28104_AGLENERGY3_TB_at_30.06.18_run_27.07.18_[PBC](1-11-2018_12.01.24_PM)'\r\n",
      "'28104 AGLENERGY3 TB at 30.06.18 run 27.07.18 [PBC](1-11-2018 12.01.24 PM).xlsx'\r\n",
      " AGL_Energy_Annual_Report_2018.pdf\r\n",
      " AGL_Energy_Annual_Report_2018_txt_extract.txt\r\n"
     ]
    }
   ],
   "source": [
    "!ls /home/jovyan/Docs/Sample_doc/List_to_test/AGL/AGL_Energy_Annual_Report_2018.pdf"
   ]
  },
  {
   "cell_type": "code",
   "execution_count": null,
   "metadata": {},
   "outputs": [],
   "source": []
  }
 ],
 "metadata": {
  "kernelspec": {
   "display_name": "Python 3",
   "language": "python",
   "name": "python3"
  },
  "language_info": {
   "codemirror_mode": {
    "name": "ipython",
    "version": 3
   },
   "file_extension": ".py",
   "mimetype": "text/x-python",
   "name": "python",
   "nbconvert_exporter": "python",
   "pygments_lexer": "ipython3",
   "version": "3.6.6"
  }
 },
 "nbformat": 4,
 "nbformat_minor": 2
}
